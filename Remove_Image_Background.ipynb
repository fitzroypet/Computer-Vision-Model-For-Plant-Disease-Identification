{
  "nbformat": 4,
  "nbformat_minor": 0,
  "metadata": {
    "colab": {
      "provenance": [],
      "history_visible": true,
      "include_colab_link": true
    },
    "kernelspec": {
      "name": "python3",
      "display_name": "Python 3"
    },
    "language_info": {
      "name": "python"
    },
    "accelerator": "GPU",
    "gpuClass": "standard"
  },
  "cells": [
    {
      "cell_type": "markdown",
      "metadata": {
        "id": "view-in-github",
        "colab_type": "text"
      },
      "source": [
        "<a href=\"https://colab.research.google.com/github/fitzroypet/Detecting-Plant-Disease-using-MobileNet/blob/main/Remove_Image_Background.ipynb\" target=\"_parent\"><img src=\"https://colab.research.google.com/assets/colab-badge.svg\" alt=\"Open In Colab\"/></a>"
      ]
    },
    {
      "cell_type": "code",
      "source": [
        "from google.colab import drive\n",
        "drive.mount('/content/drive')"
      ],
      "metadata": {
        "colab": {
          "base_uri": "https://localhost:8080/"
        },
        "id": "cNzyEPFjicGA",
        "outputId": "d989b7f4-5d1f-4567-9bda-b9bd817276f7"
      },
      "execution_count": null,
      "outputs": [
        {
          "output_type": "stream",
          "name": "stdout",
          "text": [
            "Drive already mounted at /content/drive; to attempt to forcibly remount, call drive.mount(\"/content/drive\", force_remount=True).\n"
          ]
        }
      ]
    },
    {
      "cell_type": "code",
      "source": [
        "from rembg import remove\n",
        "from PIL import Image\n",
        "import io\n",
        "import glob"
      ],
      "metadata": {
        "id": "35Ca6_ULoLLW"
      },
      "execution_count": null,
      "outputs": []
    },
    {
      "cell_type": "code",
      "source": [
        "files = glob.glob('/content/drive/MyDrive/Dataset/Tomato___Septoria_leaf_spot/*.JPG')\n",
        "len(files)"
      ],
      "metadata": {
        "colab": {
          "base_uri": "https://localhost:8080/"
        },
        "id": "SAHGZUXtoZOQ",
        "outputId": "5125f064-7177-432e-ae8b-42645c5e4d30"
      },
      "execution_count": null,
      "outputs": [
        {
          "output_type": "execute_result",
          "data": {
            "text/plain": [
              "1771"
            ]
          },
          "metadata": {},
          "execution_count": 32
        }
      ]
    },
    {
      "cell_type": "code",
      "source": [
        "for file in files:\n",
        "  input_path = file\n",
        "  output_path = input_path.replace(\"Dataset\", \"Dataset_new\")\n",
        "  output_path = output_path.replace(\"JPG\", \"PNG\")\n",
        "  \n",
        "  with open(input_path, 'rb') as i:\n",
        "    with open(output_path, 'wb') as o:\n",
        "        input = i.read()\n",
        "        output = remove(input)\n",
        "        o.write(output)"
      ],
      "metadata": {
        "id": "YgzENnDzoelE"
      },
      "execution_count": null,
      "outputs": []
    },
    {
      "cell_type": "code",
      "source": [
        "files = glob.glob('/content/drive/MyDrive/Dataset/Tomato___Spider_mites Two-spotted_spider_mite/*.JPG')\n",
        "len(files)"
      ],
      "metadata": {
        "colab": {
          "base_uri": "https://localhost:8080/"
        },
        "id": "WoEb3eYkCDf6",
        "outputId": "beb73a48-fa9b-4c0c-ac04-9153c90a191b"
      },
      "execution_count": null,
      "outputs": [
        {
          "output_type": "execute_result",
          "data": {
            "text/plain": [
              "1676"
            ]
          },
          "metadata": {},
          "execution_count": 40
        }
      ]
    },
    {
      "cell_type": "code",
      "source": [
        "files = glob.glob('/content/drive/MyDrive/Dataset_new/Tomato___Spider_mites Two-spotted_spider_mite/*.PNG')\n",
        "len(files)"
      ],
      "metadata": {
        "colab": {
          "base_uri": "https://localhost:8080/"
        },
        "id": "xwosLm1jHusm",
        "outputId": "7420cbf7-a17f-41e1-a617-2c7b7d705a01"
      },
      "execution_count": null,
      "outputs": [
        {
          "output_type": "execute_result",
          "data": {
            "text/plain": [
              "1676"
            ]
          },
          "metadata": {},
          "execution_count": 41
        }
      ]
    },
    {
      "cell_type": "code",
      "source": [
        "for file in files:\n",
        "  input_path = file\n",
        "  output_path = input_path.replace(\"Dataset\", \"Dataset_new\")\n",
        "  output_path = output_path.replace(\"JPG\", \"PNG\")\n",
        "  \n",
        "  with open(input_path, 'rb') as i:\n",
        "    with open(output_path, 'wb') as o:\n",
        "        input = i.read()\n",
        "        output = remove(input)\n",
        "        o.write(output)"
      ],
      "metadata": {
        "id": "bwrDzKR2KRmz"
      },
      "execution_count": null,
      "outputs": []
    },
    {
      "cell_type": "code",
      "source": [
        "files = glob.glob('/content/drive/MyDrive/Dataset/Tomato___Target_Spot/*.JPG')\n",
        "len(files)"
      ],
      "metadata": {
        "id": "7BGylbwPCFgW",
        "colab": {
          "base_uri": "https://localhost:8080/"
        },
        "outputId": "b1cec780-4724-49e4-a1de-ad6cffb74019"
      },
      "execution_count": null,
      "outputs": [
        {
          "output_type": "execute_result",
          "data": {
            "text/plain": [
              "1404"
            ]
          },
          "metadata": {},
          "execution_count": 38
        }
      ]
    },
    {
      "cell_type": "code",
      "source": [
        "files = glob.glob('/content/drive/MyDrive/Dataset_new/Tomato___Target_Spot/*.PNG')\n",
        "len(files)"
      ],
      "metadata": {
        "colab": {
          "base_uri": "https://localhost:8080/"
        },
        "id": "w3j26fKLHlFj",
        "outputId": "8f10c97e-e986-4bef-f9bc-25958ad950b5"
      },
      "execution_count": null,
      "outputs": [
        {
          "output_type": "execute_result",
          "data": {
            "text/plain": [
              "1404"
            ]
          },
          "metadata": {},
          "execution_count": 39
        }
      ]
    },
    {
      "cell_type": "code",
      "source": [
        "for file in files:\n",
        "  input_path = file\n",
        "  output_path = input_path.replace(\"Dataset\", \"Dataset_new\")\n",
        "  output_path = output_path.replace(\"JPG\", \"PNG\")\n",
        "  \n",
        "  with open(input_path, 'rb') as i:\n",
        "    with open(output_path, 'wb') as o:\n",
        "        input = i.read()\n",
        "        output = remove(input)\n",
        "        o.write(output)"
      ],
      "metadata": {
        "id": "OtUa1nE8KtFo"
      },
      "execution_count": null,
      "outputs": []
    },
    {
      "cell_type": "code",
      "source": [
        "files = glob.glob('/content/drive/MyDrive/Dataset/Tomato___Tomato_Yellow_Leaf_Curl_Virus/*.JPG')\n",
        "len(files)"
      ],
      "metadata": {
        "id": "l7Na1DmyCICB",
        "colab": {
          "base_uri": "https://localhost:8080/"
        },
        "outputId": "4c548716-c063-4a13-90fc-8e2290fded3f"
      },
      "execution_count": null,
      "outputs": [
        {
          "output_type": "execute_result",
          "data": {
            "text/plain": [
              "2126"
            ]
          },
          "metadata": {},
          "execution_count": 16
        }
      ]
    },
    {
      "cell_type": "code",
      "source": [
        "for file in files:\n",
        "  input_path = file\n",
        "  output_path = input_path.replace(\"Dataset\", \"Dataset_new\")\n",
        "  output_path = output_path.replace(\"JPG\", \"PNG\")\n",
        "  \n",
        "  with open(input_path, 'rb') as i:\n",
        "    with open(output_path, 'wb') as o:\n",
        "        input = i.read()\n",
        "        output = remove(input)\n",
        "        o.write(output)"
      ],
      "metadata": {
        "id": "h4nOkUwAKwJb"
      },
      "execution_count": null,
      "outputs": []
    },
    {
      "cell_type": "code",
      "source": [
        "files = glob.glob('/content/drive/MyDrive/Dataset/Tomato___Tomato_mosaic_virus/*.JPG')\n",
        "len(files)"
      ],
      "metadata": {
        "id": "SZhk_5Y9GSUJ",
        "colab": {
          "base_uri": "https://localhost:8080/"
        },
        "outputId": "2dcd4155-761f-4079-a245-537485af1763"
      },
      "execution_count": null,
      "outputs": [
        {
          "output_type": "execute_result",
          "data": {
            "text/plain": [
              "373"
            ]
          },
          "metadata": {},
          "execution_count": 42
        }
      ]
    },
    {
      "cell_type": "code",
      "source": [
        "files = glob.glob('/content/drive/MyDrive/Dataset_new/Tomato___Tomato_mosaic_virus/*.PNG')\n",
        "len(files)"
      ],
      "metadata": {
        "colab": {
          "base_uri": "https://localhost:8080/"
        },
        "id": "cb7RSNjNIFpj",
        "outputId": "341c3048-c457-4c90-899e-7fe939f46165"
      },
      "execution_count": null,
      "outputs": [
        {
          "output_type": "execute_result",
          "data": {
            "text/plain": [
              "373"
            ]
          },
          "metadata": {},
          "execution_count": 19
        }
      ]
    },
    {
      "cell_type": "code",
      "source": [
        "for file in files:\n",
        "  input_path = file\n",
        "  output_path = input_path.replace(\"Dataset\", \"Dataset_new\")\n",
        "  output_path = output_path.replace(\"JPG\", \"PNG\")\n",
        "  \n",
        "  with open(input_path, 'rb') as i:\n",
        "    with open(output_path, 'wb') as o:\n",
        "        input = i.read()\n",
        "        output = remove(input)\n",
        "        o.write(output)"
      ],
      "metadata": {
        "id": "d7oCI7jY47i4"
      },
      "execution_count": null,
      "outputs": []
    },
    {
      "cell_type": "code",
      "source": [
        "print('Completed Successfully!!!')"
      ],
      "metadata": {
        "colab": {
          "base_uri": "https://localhost:8080/"
        },
        "id": "VH_iYOUS5DyK",
        "outputId": "f0d1e4f8-74ed-4aa3-f80a-07722271c9e7"
      },
      "execution_count": null,
      "outputs": [
        {
          "output_type": "stream",
          "name": "stdout",
          "text": [
            "Completed Successfully!!!\n"
          ]
        }
      ]
    }
  ]
}