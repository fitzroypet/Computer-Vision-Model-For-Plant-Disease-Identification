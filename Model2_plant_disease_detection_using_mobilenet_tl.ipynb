{
  "cells": [
    {
      "cell_type": "markdown",
      "metadata": {
        "id": "view-in-github",
        "colab_type": "text"
      },
      "source": [
        "<a href=\"https://colab.research.google.com/github/fitzroypet/Detecting-Plant-Disease-using-MobileNet/blob/main/nModel2_plant_disease_detection_using_mobilenet_tl.ipynb\" target=\"_parent\"><img src=\"https://colab.research.google.com/assets/colab-badge.svg\" alt=\"Open In Colab\"/></a>"
      ]
    },
    {
      "cell_type": "code",
      "source": [
        "from google.colab import drive\n",
        "drive.mount('/content/drive')"
      ],
      "metadata": {
        "colab": {
          "base_uri": "https://localhost:8080/"
        },
        "id": "khlZfvEHA-7U",
        "outputId": "c9edbbb4-3f7c-4585-f457-4acef9c2e8ac"
      },
      "execution_count": null,
      "outputs": [
        {
          "output_type": "stream",
          "name": "stdout",
          "text": [
            "Drive already mounted at /content/drive; to attempt to forcibly remount, call drive.mount(\"/content/drive\", force_remount=True).\n"
          ]
        }
      ]
    },
    {
      "metadata": {
        "_uuid": "8f2839f25d086af736a60e9eeb907d3b93b6e0e5",
        "_cell_guid": "b1076dfc-b9ad-4769-8c92-a6c4dae69d19",
        "trusted": true,
        "id": "o6lQb1yS8U-n"
      },
      "cell_type": "code",
      "source": [
        "import tensorflow as tf\n",
        "from keras.utils import np_utils\n",
        "from keras.models import Sequential\n",
        "from keras.layers import Convolution2D,Dense,MaxPool2D,Activation,Dropout,Flatten\n",
        "from keras.layers import GlobalAveragePooling2D\n",
        "from keras.optimizers import Adam\n",
        "from sklearn.model_selection import train_test_split\n",
        "from keras.layers import BatchNormalization\n",
        "import os \n",
        "import pandas as pd\n",
        "import plotly.graph_objs as go\n",
        "import matplotlib.ticker as ticker\n",
        "import matplotlib.pyplot as plt\n",
        "import seaborn as sns\n",
        "import plotly.express as px\n",
        "import cv2\n",
        "import numpy as np\n",
        "from sklearn.model_selection import train_test_split"
      ],
      "execution_count": null,
      "outputs": []
    },
    {
      "cell_type": "code",
      "source": [
        "os.chdir(\"/content/drive/My Drive/\")\n",
        "!ls"
      ],
      "metadata": {
        "id": "la7tt3tYdqy-",
        "colab": {
          "base_uri": "https://localhost:8080/"
        },
        "outputId": "e9229ab8-b3d8-4122-f026-2496808937ff"
      },
      "execution_count": null,
      "outputs": [
        {
          "output_type": "stream",
          "name": "stdout",
          "text": [
            "'Copy of NoBg-plant-disease-detection-using-mobilenet-tl.ipynb'   Music\n",
            " Dataset\t\t\t\t\t\t\t  Output\n",
            " Dataset_new\n"
          ]
        }
      ]
    },
    {
      "cell_type": "code",
      "source": [
        "root_dir = ('/content/drive/MyDrive/Dataset_new/')"
      ],
      "metadata": {
        "id": "LiYrJKQmEgKY"
      },
      "execution_count": null,
      "outputs": []
    },
    {
      "cell_type": "code",
      "source": [
        "classes = os.listdir(root_dir)\n",
        "classes"
      ],
      "metadata": {
        "colab": {
          "base_uri": "https://localhost:8080/"
        },
        "id": "E8asksqJEsms",
        "outputId": "9fffb746-0361-471c-93e6-a3820a29707a"
      },
      "execution_count": null,
      "outputs": [
        {
          "output_type": "execute_result",
          "data": {
            "text/plain": [
              "['Tomato___Septoria_leaf_spot',\n",
              " 'Tomato___Spider_mites Two-spotted_spider_mite',\n",
              " 'Tomato___Bacterial_spot',\n",
              " '.ipynb_checkpoints',\n",
              " 'Tomato___Early_blight',\n",
              " 'Tomato___Late_blight',\n",
              " 'Tomato___Leaf_Mold',\n",
              " 'Tomato___healthy',\n",
              " 'Tomato___Target_Spot',\n",
              " 'Tomato___Tomato_Yellow_Leaf_Curl_Virus',\n",
              " 'Tomato___Tomato_mosaic_virus']"
            ]
          },
          "metadata": {},
          "execution_count": 39
        }
      ]
    },
    {
      "cell_type": "code",
      "source": [
        "import splitfolders"
      ],
      "metadata": {
        "id": "LYTu6iMbQVTa"
      },
      "execution_count": null,
      "outputs": []
    },
    {
      "cell_type": "code",
      "source": [
        "# Split with a ratio.\n",
        "# To only split into training and validation set, set a tuple to `ratio`, i.e, `(.8, .2)`.\n",
        "splitfolders.ratio(\"/content/drive/MyDrive/Dataset_new/\", output=\"/content/drive/MyDrive/Output/\",\n",
        "    seed=1337, ratio=(.8, .1, .1), group_prefix=None, move=False) # default values"
      ],
      "metadata": {
        "colab": {
          "base_uri": "https://localhost:8080/"
        },
        "id": "Dauu2HpaPsYb",
        "outputId": "fb903518-d21f-47a0-ceb4-cea4b8428dec"
      },
      "execution_count": null,
      "outputs": [
        {
          "output_type": "stream",
          "name": "stderr",
          "text": [
            "Copying files: 14775 files [08:58, 27.46 files/s]\n"
          ]
        }
      ]
    },
    {
      "metadata": {
        "trusted": true,
        "id": "VRe_JSPB8U-r"
      },
      "cell_type": "code",
      "source": [
        "from keras.preprocessing.image import ImageDataGenerator"
      ],
      "execution_count": null,
      "outputs": []
    },
    {
      "cell_type": "code",
      "source": [
        "# Assign the directories for train, test, and validation dataset\n",
        "\n",
        "train_dir = '/content/drive/MyDrive/Output/train/'\n",
        "test_dir = '/content/drive/MyDrive/Output/test/'\n",
        "val_dir = '/content/drive/MyDrive/Output/val/'"
      ],
      "metadata": {
        "id": "sk24o2q7qucX"
      },
      "execution_count": null,
      "outputs": []
    },
    {
      "cell_type": "code",
      "source": [
        "# Create data generator for training and validation\n",
        "\n",
        "img_width,img_height =224,224\n",
        "input_shape=(img_width,img_height,3)\n",
        "batch_size =32\n",
        "\n",
        "train_datagen = ImageDataGenerator(rescale=1./255,\n",
        "                                   shear_range=0.2,\n",
        "                                   zoom_range=0.2,\n",
        "                                   horizontal_flip=True)\n",
        "test_datagen = ImageDataGenerator(rescale=1./255)\n",
        "val_datagen = ImageDataGenerator(rescale=1./255)\n",
        "\n",
        "train_generator = train_datagen.flow_from_directory(train_dir,target_size=(img_width,img_height),batch_size=batch_size,shuffle=True)\n",
        "test_generator = test_datagen.flow_from_directory(test_dir,target_size=(img_width,img_height),batch_size=batch_size)\n",
        "val_generator = val_datagen.flow_from_directory(val_dir,target_size=(img_width,img_height),batch_size=batch_size)"
      ],
      "metadata": {
        "colab": {
          "base_uri": "https://localhost:8080/"
        },
        "id": "N3a5AvvWrKzd",
        "outputId": "09e6585e-1621-4fe0-9e0b-5018626adc76"
      },
      "execution_count": null,
      "outputs": [
        {
          "output_type": "stream",
          "name": "stdout",
          "text": [
            "Found 11815 images belonging to 10 classes.\n",
            "Found 1486 images belonging to 10 classes.\n",
            "Found 1474 images belonging to 10 classes.\n"
          ]
        }
      ]
    },
    {
      "metadata": {
        "trusted": true,
        "id": "YQCtIxoQ8U-s",
        "colab": {
          "base_uri": "https://localhost:8080/"
        },
        "outputId": "7aa3e7f4-0a42-47d3-dd34-b29f7776be44"
      },
      "cell_type": "code",
      "source": [
        "from keras.applications.mobilenet import MobileNet\n",
        "from keras.models import Model\n",
        "import keras\n",
        "from keras import optimizers\n",
        "model_finetuned = Sequential()\n",
        "\n",
        "model_finetuned.add(MobileNet(weights='imagenet'))\n",
        "model_finetuned.add(BatchNormalization())\n",
        "model_finetuned.add(Dense(128, activation=\"relu\"))\n",
        "model_finetuned.add(Dense(10, activation=\"softmax\"))\n",
        "for layer in model_finetuned.layers[0].layers:\n",
        "  if layer.__class__.__name__==\"BatchNormalization\":\n",
        "    layer.trainable=True\n",
        "  else:\n",
        "    layer.trainable=False\n",
        "model_finetuned.compile(optimizer='adam',\n",
        "                  loss = 'categorical_crossentropy',\n",
        "                  metrics=['accuracy'])"
      ],
      "execution_count": null,
      "outputs": [
        {
          "output_type": "stream",
          "name": "stdout",
          "text": [
            "Downloading data from https://storage.googleapis.com/tensorflow/keras-applications/mobilenet/mobilenet_1_0_224_tf.h5\n",
            "17225924/17225924 [==============================] - 2s 0us/step\n"
          ]
        }
      ]
    },
    {
      "metadata": {
        "trusted": true,
        "id": "8QHN7QTy8U-t",
        "colab": {
          "base_uri": "https://localhost:8080/"
        },
        "outputId": "f5f95066-dce1-4f25-dcbe-1f8cb3cdb183"
      },
      "cell_type": "code",
      "source": [
        "model_finetuned.summary()"
      ],
      "execution_count": null,
      "outputs": [
        {
          "output_type": "stream",
          "name": "stdout",
          "text": [
            "Model: \"sequential\"\n",
            "_________________________________________________________________\n",
            " Layer (type)                Output Shape              Param #   \n",
            "=================================================================\n",
            " mobilenet_1.00_224 (Functio  (None, 1000)             4253864   \n",
            " nal)                                                            \n",
            "                                                                 \n",
            " batch_normalization (BatchN  (None, 1000)             4000      \n",
            " ormalization)                                                   \n",
            "                                                                 \n",
            " dense (Dense)               (None, 128)               128128    \n",
            "                                                                 \n",
            " dense_1 (Dense)             (None, 10)                1290      \n",
            "                                                                 \n",
            "=================================================================\n",
            "Total params: 4,387,282\n",
            "Trainable params: 153,306\n",
            "Non-trainable params: 4,233,976\n",
            "_________________________________________________________________\n"
          ]
        }
      ]
    },
    {
      "cell_type": "code",
      "source": [
        "# Test if the files are readable\n",
        "\n",
        "import os\n",
        "from PIL import Image\n",
        "folder_path = ('/content/drive/MyDrive/Output/train')\n",
        "extensions = []\n",
        "for fldr in os.listdir(folder_path):\n",
        "    sub_folder_path = os.path.join(folder_path, fldr)\n",
        "    for filee in os.listdir(sub_folder_path):\n",
        "        file_path = os.path.join(sub_folder_path, filee)\n",
        "        print('** Path: {}  **'.format(file_path), end=\"\\r\", flush=True)\n",
        "        im = Image.open(file_path)\n",
        "        rgb_im = im.convert('RGB')\n",
        "        if filee.split('.')[1] not in extensions:\n",
        "            extensions.append(filee.split('.')[1])"
      ],
      "metadata": {
        "id": "3r1uNDJzdSyV"
      },
      "execution_count": null,
      "outputs": []
    },
    {
      "cell_type": "code",
      "source": [
        "# To test an image \n",
        "\n",
        "from pathlib import Path\n",
        "import PIL\n",
        "import PIL.Image as PILI\n",
        "#from PIL import Image\n",
        "\n",
        "img_path = Path('/content/drive/MyDrive/output/val/Tomato___Bacterial_spot/image (10).png')\n",
        "img = PILI.open(img_path).convert('RGB')\n",
        "\n",
        "print(img)"
      ],
      "metadata": {
        "id": "QTGwlJNZi6MT"
      },
      "execution_count": null,
      "outputs": []
    },
    {
      "metadata": {
        "trusted": true,
        "id": "rWYv8V408U-t",
        "colab": {
          "base_uri": "https://localhost:8080/"
        },
        "outputId": "29e13817-176c-4a28-8006-fd2364035911"
      },
      "cell_type": "code",
      "source": [
        "# Train and fit model\n",
        "\n",
        "from PIL import Image\n",
        "from keras.callbacks import ReduceLROnPlateau\n",
        "\n",
        "history_1 = model_finetuned.fit(train_generator,                                    \n",
        "                                  steps_per_epoch=None, \n",
        "                                  epochs=8,validation_data=val_generator,validation_steps=None\n",
        "                                  ,verbose=1,callbacks=[ReduceLROnPlateau(monitor='val_loss', factor=0.3,patience=3, min_lr=0.000001)],use_multiprocessing=False,\n",
        "               shuffle=True)"
      ],
      "execution_count": null,
      "outputs": [
        {
          "output_type": "stream",
          "name": "stdout",
          "text": [
            "Epoch 1/8\n",
            "370/370 [==============================] - 9396s 25s/step - loss: 1.0546 - accuracy: 0.6506 - val_loss: 1.5330 - val_accuracy: 0.4620 - lr: 0.0010\n",
            "Epoch 2/8\n",
            "370/370 [==============================] - 173s 467ms/step - loss: 0.5901 - accuracy: 0.7977 - val_loss: 0.6874 - val_accuracy: 0.7687 - lr: 0.0010\n",
            "Epoch 3/8\n",
            "370/370 [==============================] - 170s 460ms/step - loss: 0.4559 - accuracy: 0.8446 - val_loss: 0.6613 - val_accuracy: 0.7972 - lr: 0.0010\n",
            "Epoch 4/8\n",
            "370/370 [==============================] - 166s 450ms/step - loss: 0.3812 - accuracy: 0.8670 - val_loss: 0.5104 - val_accuracy: 0.8440 - lr: 0.0010\n",
            "Epoch 5/8\n",
            "370/370 [==============================] - 170s 458ms/step - loss: 0.3368 - accuracy: 0.8813 - val_loss: 0.5496 - val_accuracy: 0.8256 - lr: 0.0010\n",
            "Epoch 6/8\n",
            "370/370 [==============================] - 167s 452ms/step - loss: 0.2971 - accuracy: 0.8934 - val_loss: 0.4581 - val_accuracy: 0.8535 - lr: 0.0010\n",
            "Epoch 7/8\n",
            "370/370 [==============================] - 168s 453ms/step - loss: 0.2614 - accuracy: 0.9075 - val_loss: 0.4104 - val_accuracy: 0.8664 - lr: 0.0010\n",
            "Epoch 8/8\n",
            "370/370 [==============================] - 165s 445ms/step - loss: 0.2392 - accuracy: 0.9160 - val_loss: 0.3484 - val_accuracy: 0.8921 - lr: 0.0010\n"
          ]
        }
      ]
    },
    {
      "metadata": {
        "trusted": true,
        "id": "GqsGcS1q8U-u"
      },
      "cell_type": "code",
      "source": [
        "from keras.models import load_model\n",
        "model_finetuned.save('plantdiseasemobilenet8epoch.h5')"
      ],
      "execution_count": null,
      "outputs": []
    },
    {
      "metadata": {
        "trusted": true,
        "id": "hgmqpZi88U-u"
      },
      "cell_type": "code",
      "source": [
        "classes=list(train_generator.class_indices.keys())\n",
        "import numpy as np\n",
        "import matplotlib.pyplot as plt\n",
        "\n",
        "# Pre-Processing test data same as train data.\n",
        "img_width=224\n",
        "img_height=224\n",
        "model_finetuned.compile(optimizer='adam',loss='categorical_crossentropy',metrics=['accuracy'])\n",
        "\n",
        "#from keras.preprocessing import image\n",
        "import tensorflow\n",
        "from keras.preprocessing import image\n",
        "\n",
        "def prepare(img_path):\n",
        "    img = image.load_img(img_path, target_size=(224,224))\n",
        " \n",
        "    x = image.img_to_array(img)\n",
        "    x = x/255\n",
        "    return np.expand_dims(x, axis=0)\n"
      ],
      "execution_count": null,
      "outputs": []
    },
    {
      "cell_type": "code",
      "source": [
        "import keras.utils as image\n",
        "\n",
        "test_img = ('/content/drive/MyDrive/Output/test/Tomato___Leaf_Mold/image (251).PNG')\n",
        "\n",
        "result = model_finetuned.predict([prepare(test_img)])\n",
        "\n",
        "disease=image.load_img(test_img)\n",
        "#plt.imshow(test_img)\n",
        "plt.imshow(disease)\n",
        "print(result)"
      ],
      "metadata": {
        "colab": {
          "base_uri": "https://localhost:8080/",
          "height": 323
        },
        "id": "c4T1-xD9wFVB",
        "outputId": "2c810207-4dbc-4d19-c024-74e265ed5903"
      },
      "execution_count": null,
      "outputs": [
        {
          "output_type": "stream",
          "name": "stdout",
          "text": [
            "1/1 [==============================] - 0s 20ms/step\n",
            "[[8.4496579e-09 1.5764438e-04 1.7283153e-05 9.9970633e-01 4.3356582e-07\n",
            "  3.6882011e-07 1.3792754e-07 1.1601407e-04 1.7839732e-06 6.6314412e-09]]\n"
          ]
        },
        {
          "output_type": "display_data",
          "data": {
            "text/plain": [
              "<Figure size 432x288 with 1 Axes>"
            ],
            "image/png": "[encoded data removed]"
          },
          "metadata": {
            "needs_background": "light"
          }
        }
      ]
    },
    {
      "metadata": {
        "trusted": true,
        "colab": {
          "base_uri": "https://localhost:8080/"
        },
        "id": "Q4OGzkKT8U-v",
        "outputId": "27f75336-a4b7-4a8b-a2d1-a5a5efd47fca"
      },
      "cell_type": "code",
      "source": [
        "import numpy as np\n",
        "classresult=np.argmax(result,axis=1)\n",
        "print(classes[classresult[0]])"
      ],
      "execution_count": null,
      "outputs": [
        {
          "output_type": "stream",
          "name": "stdout",
          "text": [
            "Tomato___Leaf_Mold\n"
          ]
        }
      ]
    },
    {
      "metadata": {
        "trusted": true,
        "id": "aKapjrBd8U-v"
      },
      "cell_type": "code",
      "source": [
        "import tensorflow as tf\n",
        "keras_model = tf.keras.models.load_model(\"plantdiseasemobilenet8epoch.h5\")\n",
        "converter = tf.lite.TFLiteConverter.from_keras_model(keras_model)"
      ],
      "execution_count": null,
      "outputs": []
    },
    {
      "metadata": {
        "trusted": true,
        "colab": {
          "base_uri": "https://localhost:8080/"
        },
        "id": "F1sJz7vu8U-v",
        "outputId": "20555cd8-b2f3-4e43-f595-1075c0a4af0b"
      },
      "cell_type": "code",
      "source": [
        "model = converter.convert()\n",
        "file = open('/content/drive/MyDrive/outputmobilenetof8epoch.tflite' , 'wb' ) \n",
        "file.write(model)"
      ],
      "execution_count": null,
      "outputs": [
        {
          "output_type": "stream",
          "name": "stderr",
          "text": [
            "WARNING:absl:Function `_wrapped_model` contains input name(s) mobilenet_1.00_224_input with unsupported characters which will be renamed to mobilenet_1_00_224_input in the SavedModel.\n",
            "WARNING:absl:Found untraced functions such as _jit_compiled_convolution_op, _jit_compiled_convolution_op, _jit_compiled_convolution_op, _jit_compiled_convolution_op, _jit_compiled_convolution_op while saving (showing 5 of 28). These functions will not be directly callable after loading.\n"
          ]
        },
        {
          "output_type": "execute_result",
          "data": {
            "text/plain": [
              "17425416"
            ]
          },
          "metadata": {},
          "execution_count": 62
        }
      ]
    },
    {
      "metadata": {
        "trusted": true,
        "colab": {
          "base_uri": "https://localhost:8080/"
        },
        "id": "vL9QHkUN8U-w",
        "outputId": "717a0d6c-d45d-463d-fd8f-bb9a7dc6ba34"
      },
      "cell_type": "code",
      "source": [
        "import numpy as np\n",
        "import tensorflow as tf\n",
        "\n",
        "# Load the TFLite model and allocate tensors.\n",
        "interpreter = tf.lite.Interpreter(model_path=\"outputmobilenetof8epoch.tflite\")\n",
        "interpreter.allocate_tensors()\n",
        "\n",
        "# Get input and output tensors.\n",
        "input_details = interpreter.get_input_details()\n",
        "output_details = interpreter.get_output_details()\n",
        "\n",
        "print(input_details)\n",
        "print(\"\")\n",
        "print(output_details)"
      ],
      "execution_count": null,
      "outputs": [
        {
          "output_type": "stream",
          "name": "stdout",
          "text": [
            "[{'name': 'serving_default_mobilenet_1.00_224_input:0', 'index': 0, 'shape': array([  1, 224, 224,   3], dtype=int32), 'shape_signature': array([ -1, 224, 224,   3], dtype=int32), 'dtype': <class 'numpy.float32'>, 'quantization': (0.0, 0), 'quantization_parameters': {'scales': array([], dtype=float32), 'zero_points': array([], dtype=int32), 'quantized_dimension': 0}, 'sparsity_parameters': {}}]\n",
            "\n",
            "[{'name': 'StatefulPartitionedCall:0', 'index': 106, 'shape': array([ 1, 10], dtype=int32), 'shape_signature': array([-1, 10], dtype=int32), 'dtype': <class 'numpy.float32'>, 'quantization': (0.0, 0), 'quantization_parameters': {'scales': array([], dtype=float32), 'zero_points': array([], dtype=int32), 'quantized_dimension': 0}, 'sparsity_parameters': {}}]\n"
          ]
        }
      ]
    },
    {
      "metadata": {
        "trusted": true,
        "id": "baOjUA3l8U-w"
      },
      "cell_type": "code",
      "source": [
        "def prepare(img_path):\n",
        "    img = image.load_img(img_path, target_size=(224,224))\n",
        "    x = image.img_to_array(img)\n",
        "    x = x/255\n",
        "    return np.expand_dims(x, axis=0)"
      ],
      "execution_count": null,
      "outputs": []
    },
    {
      "cell_type": "code",
      "source": [
        "input_data = [prepare(\"/content/drive/MyDrive/Output/test/Tomato___Septoria_leaf_spot/image (1077).PNG\")]"
      ],
      "metadata": {
        "id": "R5x6YWFAyEm1"
      },
      "execution_count": null,
      "outputs": []
    },
    {
      "metadata": {
        "trusted": true,
        "colab": {
          "base_uri": "https://localhost:8080/"
        },
        "id": "bgr0YyuK8U-w",
        "outputId": "4a3e913e-4b4f-4be8-96fb-87a1f7cc0b0d"
      },
      "cell_type": "code",
      "source": [
        "input_shape = input_details[0]['shape']\n",
        "interpreter.set_tensor(input_details[0]['index'], input_data[0])\n",
        "\n",
        "interpreter.invoke()\n",
        "\n",
        "# The function `get_tensor()` returns a copy of the tensor data.\n",
        "# Use `tensor()` in order to get a pointer to the tensor.\n",
        "output_data = interpreter.get_tensor(output_details[0]['index'])\n",
        "print(output_data)"
      ],
      "execution_count": null,
      "outputs": [
        {
          "output_type": "stream",
          "name": "stdout",
          "text": [
            "[[1.11305480e-05 3.40387749e-04 1.08186434e-07 1.24093980e-09\n",
            "  9.99124706e-01 4.34709051e-08 5.09041129e-05 1.15428681e-10\n",
            "  6.87197799e-11 4.72805375e-04]]\n"
          ]
        }
      ]
    },
    {
      "metadata": {
        "trusted": true,
        "colab": {
          "base_uri": "https://localhost:8080/"
        },
        "id": "zrtCD68B8U-x",
        "outputId": "5ccf7e3f-f58c-4ea7-8097-6e5f46fd05ce"
      },
      "cell_type": "code",
      "source": [
        "classresult=np.argmax(output_data,axis=1)\n",
        "print(classes[classresult[0]])"
      ],
      "execution_count": null,
      "outputs": [
        {
          "output_type": "stream",
          "name": "stdout",
          "text": [
            "Tomato___Septoria_leaf_spot\n"
          ]
        }
      ]
    },
    {
      "metadata": {
        "trusted": true,
        "colab": {
          "base_uri": "https://localhost:8080/",
          "height": 591
        },
        "id": "PI05bG5z8U-x",
        "outputId": "31483b31-4972-4b2c-cf74-fd9ebe4cb041"
      },
      "cell_type": "code",
      "source": [
        "from keras.models import Sequential\n",
        "from keras.layers import Dense\n",
        "import matplotlib.pyplot as plt\n",
        "import numpy\n",
        "\n",
        "print(history_1.history.keys())\n",
        "\n",
        "plt.plot(history_1.history['accuracy'])\n",
        "plt.plot(history_1.history['val_accuracy'])\n",
        "plt.title('model accuracy')\n",
        "plt.ylabel('accuracy')\n",
        "plt.xlabel('epoch')\n",
        "plt.legend(['train', 'test'], loc='upper left')\n",
        "plt.show()\n",
        "# summarize history for loss\n",
        "plt.plot(history_1.history['loss'])\n",
        "plt.plot(history_1.history['val_loss'])\n",
        "plt.title('model loss')\n",
        "plt.ylabel('loss')\n",
        "plt.xlabel('epoch')\n",
        "plt.legend(['train', 'test'], loc='upper left')\n",
        "plt.show()"
      ],
      "execution_count": null,
      "outputs": [
        {
          "output_type": "stream",
          "name": "stdout",
          "text": [
            "dict_keys(['loss', 'accuracy', 'val_loss', 'val_accuracy', 'lr'])\n"
          ]
        },
        {
          "output_type": "display_data",
          "data": {
            "text/plain": [
              "<Figure size 432x288 with 1 Axes>"
            ],
            "image/png": "[encoded data removed]"
          },
          "metadata": {
            "needs_background": "light"
          }
        },
        {
          "output_type": "display_data",
          "data": {
            "text/plain": [
              "<Figure size 432x288 with 1 Axes>"
            ],
            "image/png": "[encoded data removed]"
          },
          "metadata": {
            "needs_background": "light"
          }
        }
      ]
    },
    {
      "metadata": {
        "trusted": true,
        "id": "Nc6JFfjs8U-x"
      },
      "cell_type": "code",
      "source": [],
      "execution_count": null,
      "outputs": []
    }
  ],
  "metadata": {
    "kernelspec": {
      "name": "python3",
      "display_name": "Python 3",
      "language": "python"
    },
    "language_info": {
      "name": "python",
      "version": "3.7.9",
      "mimetype": "text/x-python",
      "codemirror_mode": {
        "name": "ipython",
        "version": 3
      },
      "pygments_lexer": "ipython3",
      "nbconvert_exporter": "python",
      "file_extension": ".py"
    },
    "colab": {
      "provenance": [],
      "include_colab_link": true
    },
    "accelerator": "GPU",
    "gpuClass": "standard"
  },
  "nbformat": 4,
  "nbformat_minor": 0
}
