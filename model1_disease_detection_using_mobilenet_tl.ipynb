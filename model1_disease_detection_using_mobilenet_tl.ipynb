{
  "cells": [
    {
      "cell_type": "markdown",
      "metadata": {
        "id": "view-in-github",
        "colab_type": "text"
      },
      "source": [
        "<a href=\"https://colab.research.google.com/github/fitzroypet/Detecting-Plant-Disease-using-MobileNet/blob/main/model1_disease_detection_using_mobilenet_tl.ipynb\" target=\"_parent\"><img src=\"https://colab.research.google.com/assets/colab-badge.svg\" alt=\"Open In Colab\"/></a>"
      ]
    },
    {
      "cell_type": "code",
      "source": [
        "from google.colab import drive\n",
        "drive.mount('/content/drive')"
      ],
      "metadata": {
        "colab": {
          "base_uri": "https://localhost:8080/"
        },
        "id": "khlZfvEHA-7U",
        "outputId": "2c9d36bd-bfe0-4c83-9a25-41b53d5e0e36"
      },
      "execution_count": null,
      "outputs": [
        {
          "output_type": "stream",
          "name": "stdout",
          "text": [
            "Mounted at /content/drive\n"
          ]
        }
      ]
    },
    {
      "metadata": {
        "_uuid": "8f2839f25d086af736a60e9eeb907d3b93b6e0e5",
        "_cell_guid": "b1076dfc-b9ad-4769-8c92-a6c4dae69d19",
        "trusted": true,
        "id": "o6lQb1yS8U-n"
      },
      "cell_type": "code",
      "source": [
        "import tensorflow as tf\n",
        "from keras.utils import np_utils\n",
        "from keras.models import Sequential\n",
        "from keras.layers import Convolution2D,Dense,MaxPool2D,Activation,Dropout,Flatten\n",
        "from keras.layers import GlobalAveragePooling2D\n",
        "from keras.optimizers import Adam\n",
        "from sklearn.model_selection import train_test_split\n",
        "from keras.layers import BatchNormalization\n",
        "import os \n",
        "import pandas as pd\n",
        "import plotly.graph_objs as go\n",
        "import matplotlib.ticker as ticker\n",
        "import matplotlib.pyplot as plt\n",
        "import seaborn as sns\n",
        "import plotly.express as px\n",
        "import cv2\n",
        "import numpy as np\n",
        "from sklearn.model_selection import train_test_split"
      ],
      "execution_count": null,
      "outputs": []
    },
    {
      "cell_type": "code",
      "source": [
        "os.chdir(\"/content/drive/My Drive/project/\")\n",
        "!ls"
      ],
      "metadata": {
        "id": "la7tt3tYdqy-",
        "colab": {
          "base_uri": "https://localhost:8080/"
        },
        "outputId": "5e08ec46-358c-4eaf-8254-fa047e7f4dbe"
      },
      "execution_count": null,
      "outputs": [
        {
          "output_type": "stream",
          "name": "stdout",
          "text": [
            " dataset   model.tflite   plantdiseasemobilenet8epoch.h5\n",
            " images    Output_bg\t 'Tensorflow model'\n"
          ]
        }
      ]
    },
    {
      "cell_type": "code",
      "source": [
        "root_dir = ('/content/drive/MyDrive/project/dataset/')"
      ],
      "metadata": {
        "id": "LiYrJKQmEgKY"
      },
      "execution_count": null,
      "outputs": []
    },
    {
      "cell_type": "code",
      "source": [
        "classes = os.listdir(root_dir)\n",
        "classes"
      ],
      "metadata": {
        "id": "E8asksqJEsms"
      },
      "execution_count": null,
      "outputs": []
    },
    {
      "metadata": {
        "trusted": true,
        "id": "VRe_JSPB8U-r"
      },
      "cell_type": "code",
      "source": [
        "from keras.preprocessing.image import ImageDataGenerator"
      ],
      "execution_count": null,
      "outputs": []
    },
    {
      "cell_type": "code",
      "source": [
        "import splitfolders"
      ],
      "metadata": {
        "id": "LYTu6iMbQVTa"
      },
      "execution_count": null,
      "outputs": []
    },
    {
      "cell_type": "code",
      "source": [
        "# Split with a ratio.\n",
        "# To only split into training and validation set, set a tuple to `ratio`, i.e, `(.8, .2)`.\n",
        "splitfolders.ratio(\"/content/drive/MyDrive/project/dataset/\", output=\"/content/drive/MyDrive/project/Output_bg/\",\n",
        "    seed=1337, ratio=(.8, .1, .1), group_prefix=None, move=False) # default values"
      ],
      "metadata": {
        "colab": {
          "base_uri": "https://localhost:8080/"
        },
        "id": "Dauu2HpaPsYb",
        "outputId": "706f57bf-4a3b-441f-b171-727e9df2316c"
      },
      "execution_count": null,
      "outputs": [
        {
          "output_type": "stream",
          "name": "stderr",
          "text": [
            "Copying files: 18998 files [08:47, 35.98 files/s] \n"
          ]
        }
      ]
    },
    {
      "cell_type": "code",
      "source": [
        "# Assign the directories for train, test, and validation dataset\n",
        "\n",
        "train_dir = '/content/drive/MyDrive/project/Output_bg/train/'\n",
        "test_dir = '/content/drive/MyDrive/project/Output_bg/test/'\n",
        "val_dir = '/content/drive/MyDrive/project/Output_bg/val/'"
      ],
      "metadata": {
        "id": "sk24o2q7qucX"
      },
      "execution_count": null,
      "outputs": []
    },
    {
      "cell_type": "code",
      "source": [
        "# Create data generator for training and validation\n",
        "\n",
        "img_width,img_height =224,224\n",
        "input_shape=(img_width,img_height,3)\n",
        "batch_size =32\n",
        "\n",
        "train_datagen = ImageDataGenerator(rescale=1./255,\n",
        "                                   shear_range=0.2,\n",
        "                                   zoom_range=0.2,\n",
        "                                   horizontal_flip=True)\n",
        "test_datagen = ImageDataGenerator(rescale=1./255)\n",
        "val_datagen = ImageDataGenerator(rescale=1./255)\n",
        "\n",
        "\n",
        "train_generator = train_datagen.flow_from_directory(train_dir,target_size=(img_width,img_height),batch_size=batch_size,shuffle=True)\n",
        "test_generator = test_datagen.flow_from_directory(test_dir,target_size=(img_width,img_height),batch_size=batch_size)\n",
        "val_generator = val_datagen.flow_from_directory(val_dir,target_size=(img_width,img_height),batch_size=batch_size)"
      ],
      "metadata": {
        "colab": {
          "base_uri": "https://localhost:8080/"
        },
        "id": "N3a5AvvWrKzd",
        "outputId": "353d89d3-6fb9-46fe-a938-32495a403583"
      },
      "execution_count": null,
      "outputs": [
        {
          "output_type": "stream",
          "name": "stdout",
          "text": [
            "Found 15195 images belonging to 10 classes.\n",
            "Found 1906 images belonging to 10 classes.\n",
            "Found 1897 images belonging to 10 classes.\n"
          ]
        }
      ]
    },
    {
      "metadata": {
        "trusted": true,
        "id": "YQCtIxoQ8U-s"
      },
      "cell_type": "code",
      "source": [
        "# Model architecture, training\n",
        "\n",
        "from keras.applications.mobilenet import MobileNet\n",
        "from keras.models import Model\n",
        "import keras\n",
        "from keras import optimizers\n",
        "model_finetuned = Sequential()\n",
        "\n",
        "model_finetuned.add(MobileNet(weights='imagenet'))\n",
        "model_finetuned.add(BatchNormalization())\n",
        "model_finetuned.add(Dense(128, activation=\"relu\"))\n",
        "model_finetuned.add(Dense(10, activation=\"softmax\"))\n",
        "for layer in model_finetuned.layers[0].layers:\n",
        "  if layer.__class__.__name__==\"BatchNormalization\":\n",
        "    layer.trainable=True\n",
        "  else:\n",
        "    layer.trainable=False\n",
        "model_finetuned.compile(optimizer='adam',\n",
        "                  loss = 'categorical_crossentropy',\n",
        "                  metrics=['accuracy'])"
      ],
      "execution_count": null,
      "outputs": []
    },
    {
      "metadata": {
        "trusted": true,
        "id": "8QHN7QTy8U-t"
      },
      "cell_type": "code",
      "source": [
        "model_finetuned.summary()"
      ],
      "execution_count": null,
      "outputs": []
    },
    {
      "cell_type": "code",
      "source": [
        "# Test if the files are readable\n",
        "\n",
        "import os\n",
        "from PIL import Image\n",
        "folder_path = ('/content/drive/MyDrive/Output/train')\n",
        "extensions = []\n",
        "for fldr in os.listdir(folder_path):\n",
        "    sub_folder_path = os.path.join(folder_path, fldr)\n",
        "    for filee in os.listdir(sub_folder_path):\n",
        "        file_path = os.path.join(sub_folder_path, filee)\n",
        "        print('** Path: {}  **'.format(file_path), end=\"\\r\", flush=True)\n",
        "        im = Image.open(file_path)\n",
        "        rgb_im = im.convert('RGB')\n",
        "        if filee.split('.')[1] not in extensions:\n",
        "            extensions.append(filee.split('.')[1])"
      ],
      "metadata": {
        "id": "3r1uNDJzdSyV"
      },
      "execution_count": null,
      "outputs": []
    },
    {
      "cell_type": "code",
      "source": [
        "# To test an image \n",
        "\n",
        "from pathlib import Path\n",
        "import PIL\n",
        "import PIL.Image as PILI\n",
        "#from PIL import Image\n",
        "\n",
        "img_path = Path('/content/drive/MyDrive/output/val/Tomato___Bacterial_spot/image (10).png')\n",
        "img = PILI.open(img_path).convert('RGB')\n",
        "\n",
        "print(img)"
      ],
      "metadata": {
        "id": "QTGwlJNZi6MT"
      },
      "execution_count": null,
      "outputs": []
    },
    {
      "metadata": {
        "trusted": true,
        "id": "rWYv8V408U-t"
      },
      "cell_type": "code",
      "source": [
        "# Train and fit model\n",
        "\n",
        "from PIL import Image\n",
        "from keras.callbacks import ReduceLROnPlateau\n",
        "\n",
        "#validation_generator = test_datagen.flow_from_directory(\n",
        "                       #test_dir,\n",
        "                       #target_size=(img_height, img_width),\n",
        "                       #batch_size=batch_size)\n",
        "\n",
        "history_1 = model_finetuned.fit(train_generator,                                    \n",
        "                                  steps_per_epoch=None, \n",
        "                                  epochs=8,validation_data=val_generator,validation_steps=None\n",
        "                                  ,verbose=1,callbacks=[ReduceLROnPlateau(monitor='val_loss', factor=0.3,patience=3, min_lr=0.000001)],use_multiprocessing=False,\n",
        "               shuffle=True)"
      ],
      "execution_count": null,
      "outputs": []
    },
    {
      "metadata": {
        "trusted": true,
        "id": "GqsGcS1q8U-u"
      },
      "cell_type": "code",
      "source": [
        "from keras.models import load_model\n",
        "model_finetuned.save('plantdiseasemobilenet8epoch.h5')"
      ],
      "execution_count": null,
      "outputs": []
    },
    {
      "metadata": {
        "trusted": true,
        "id": "hgmqpZi88U-u"
      },
      "cell_type": "code",
      "source": [
        "classes=list(train_generator.class_indices.keys())\n",
        "import numpy as np\n",
        "import matplotlib.pyplot as plt\n",
        "\n",
        "# Pre-Processing test data same as train data.\n",
        "img_width=224\n",
        "img_height=224\n",
        "model_finetuned.compile(optimizer='adam',loss='categorical_crossentropy',metrics=['accuracy'])\n",
        "\n",
        "#from keras.preprocessing import image\n",
        "import tensorflow\n",
        "from keras.preprocessing import image\n",
        "\n",
        "def prepare(img_path):\n",
        "    img = image.load_img(img_path, target_size=(224,224))\n",
        " \n",
        "    x = image.img_to_array(img)\n",
        "    x = x/255\n",
        "    return np.expand_dims(x, axis=0)\n"
      ],
      "execution_count": null,
      "outputs": []
    },
    {
      "cell_type": "code",
      "source": [
        "import keras.utils as image"
      ],
      "metadata": {
        "id": "c4T1-xD9wFVB"
      },
      "execution_count": null,
      "outputs": []
    },
    {
      "cell_type": "code",
      "source": [
        "classes = os.listdir('/content/drive/MyDrive/project/Output_bg/train')\n",
        "classes"
      ],
      "metadata": {
        "id": "VKdjhTTaZmpI"
      },
      "execution_count": null,
      "outputs": []
    },
    {
      "cell_type": "code",
      "source": [
        "test_img = ('/content/drive/MyDrive/project/Output_bg/test/Tomato___Leaf_Mold/image (163).JPG')\n",
        "result = model_finetuned.predict([prepare(test_img)])\n",
        "\n",
        "disease=image.load_img(test_img)\n",
        "#plt.imshow(test_img)\n",
        "plt.imshow(disease)\n",
        "print(result)"
      ],
      "metadata": {
        "id": "55O5VwAibMq1"
      },
      "execution_count": null,
      "outputs": []
    },
    {
      "metadata": {
        "trusted": true,
        "id": "Q4OGzkKT8U-v"
      },
      "cell_type": "code",
      "source": [
        "classresult=np.argmax(result,axis=1)\n",
        "print(classes[classresult[0]])"
      ],
      "execution_count": null,
      "outputs": []
    },
    {
      "metadata": {
        "trusted": true,
        "id": "aKapjrBd8U-v"
      },
      "cell_type": "code",
      "source": [
        "import tensorflow as tf\n",
        "keras_model = tf.keras.models.load_model(\"plantdiseasemobilenet8epoch.h5\")\n",
        "converter = tf.lite.TFLiteConverter.from_keras_model(keras_model)"
      ],
      "execution_count": null,
      "outputs": []
    },
    {
      "metadata": {
        "trusted": true,
        "id": "F1sJz7vu8U-v"
      },
      "cell_type": "code",
      "source": [
        "model = converter.convert()\n",
        "file = open('/content/drive/MyDrive/project/Output_bg/outputmobilenetof8epoch.tflite' , 'wb' ) \n",
        "file.write(model)"
      ],
      "execution_count": null,
      "outputs": []
    },
    {
      "metadata": {
        "trusted": true,
        "id": "vL9QHkUN8U-w"
      },
      "cell_type": "code",
      "source": [
        "import numpy as np\n",
        "import tensorflow as tf\n",
        "\n",
        "# Load the TFLite model and allocate tensors.\n",
        "model_path=('/content/drive/MyDrive/project/Output_bg/outputmobilenetof8epoch.tflite')\n",
        "interpreter = tf.lite.Interpreter(model_path=model_path)\n",
        "interpreter.allocate_tensors()\n",
        "\n",
        "# Get input and output tensors.\n",
        "input_details = interpreter.get_input_details()\n",
        "output_details = interpreter.get_output_details()\n",
        "\n",
        "print(input_details)\n",
        "print(\"\")\n",
        "print(output_details)"
      ],
      "execution_count": null,
      "outputs": []
    },
    {
      "metadata": {
        "trusted": true,
        "id": "baOjUA3l8U-w"
      },
      "cell_type": "code",
      "source": [
        "def prepare(img_path):\n",
        "    img = image.load_img(img_path, target_size=(224,224))\n",
        "    x = image.img_to_array(img)\n",
        "    x = x/255\n",
        "    return np.expand_dims(x, axis=0)"
      ],
      "execution_count": null,
      "outputs": []
    },
    {
      "cell_type": "code",
      "source": [
        "input_data = [prepare(\"/content/drive/MyDrive/project/Output_bg/test/Tomato___Early_blight/image (497).JPG\")]"
      ],
      "metadata": {
        "id": "R5x6YWFAyEm1"
      },
      "execution_count": null,
      "outputs": []
    },
    {
      "metadata": {
        "trusted": true,
        "id": "bgr0YyuK8U-w"
      },
      "cell_type": "code",
      "source": [
        "input_shape = input_details[0]['shape']\n",
        "interpreter.set_tensor(input_details[0]['index'], input_data[0])\n",
        "\n",
        "interpreter.invoke()\n",
        "\n",
        "# The function `get_tensor()` returns a copy of the tensor data.\n",
        "# Use `tensor()` in order to get a pointer to the tensor.\n",
        "output_data = interpreter.get_tensor(output_details[0]['index'])\n",
        "print(output_data)"
      ],
      "execution_count": null,
      "outputs": []
    },
    {
      "metadata": {
        "trusted": true,
        "id": "zrtCD68B8U-x"
      },
      "cell_type": "code",
      "source": [
        "classresult=np.argmax(output_data,axis=1)\n",
        "print(classes[classresult[0]])"
      ],
      "execution_count": null,
      "outputs": []
    },
    {
      "metadata": {
        "trusted": true,
        "colab": {
          "base_uri": "https://localhost:8080/",
          "height": 590
        },
        "id": "PI05bG5z8U-x",
        "outputId": "76cff048-82ed-4364-da9b-4f42d8f12fd7"
      },
      "cell_type": "code",
      "source": [
        "from keras.models import Sequential\n",
        "from keras.layers import Dense\n",
        "import matplotlib.pyplot as plt\n",
        "import numpy\n",
        "\n",
        "print(history_1.history.keys())\n",
        "\n",
        "plt.plot(history_1.history['accuracy'])\n",
        "plt.plot(history_1.history['val_accuracy'])\n",
        "plt.title('model accuracy')\n",
        "plt.ylabel('accuracy')\n",
        "plt.xlabel('epoch')\n",
        "plt.legend(['train', 'test'], loc='upper left')\n",
        "plt.show()\n",
        "# summarize history for loss\n",
        "plt.plot(history_1.history['loss'])\n",
        "plt.plot(history_1.history['val_loss'])\n",
        "plt.title('model loss')\n",
        "plt.ylabel('loss')\n",
        "plt.xlabel('epoch')\n",
        "plt.legend(['train', 'test'], loc='upper left')\n",
        "plt.show()"
      ],
      "execution_count": null,
      "outputs": [
        {
          "output_type": "stream",
          "name": "stdout",
          "text": [
            "dict_keys(['loss', 'accuracy', 'val_loss', 'val_accuracy', 'lr'])\n"
          ]
        },
        {
          "output_type": "display_data",
          "data": {
            "text/plain": [
              "<Figure size 432x288 with 1 Axes>"
            ],
            "image/png": "[encoded data removed]"
          },
          "metadata": {
            "needs_background": "light"
          }
        },
        {
          "output_type": "display_data",
          "data": {
            "text/plain": [
              "<Figure size 432x288 with 1 Axes>"
            ],
            "image/png": "[encoded data removed]"
          },
          "metadata": {
            "needs_background": "light"
          }
        }
      ]
    },
    {
      "metadata": {
        "trusted": true,
        "id": "Nc6JFfjs8U-x"
      },
      "cell_type": "code",
      "source": [],
      "execution_count": null,
      "outputs": []
    }
  ],
  "metadata": {
    "kernelspec": {
      "name": "python3",
      "display_name": "Python 3",
      "language": "python"
    },
    "language_info": {
      "name": "python",
      "version": "3.7.9",
      "mimetype": "text/x-python",
      "codemirror_mode": {
        "name": "ipython",
        "version": 3
      },
      "pygments_lexer": "ipython3",
      "nbconvert_exporter": "python",
      "file_extension": ".py"
    },
    "colab": {
      "provenance": [],
      "include_colab_link": true
    },
    "accelerator": "GPU",
    "gpuClass": "standard"
  },
  "nbformat": 4,
  "nbformat_minor": 0
}